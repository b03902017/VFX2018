{
 "cells": [
  {
   "cell_type": "code",
   "execution_count": 10,
   "metadata": {},
   "outputs": [],
   "source": [
    "import os\n",
    "import cv2\n",
    "import numpy as np\n",
    "import matplotlib.pyplot as plt\n",
    "%matplotlib inline\n",
    "test_dirs = ['denny', 'grail', 'parrington']\n",
    "test_fname = ['denny', 'grail', 'prtn']\n",
    "TEST_DATA = 2\n",
    "data_dir = 'test data/%s'%test_dirs[TEST_DATA]\n",
    "f = 700"
   ]
  },
  {
   "cell_type": "code",
   "execution_count": 3,
   "metadata": {},
   "outputs": [],
   "source": [
    "def cylindrical_warp(img, f):\n",
    "    warp_img = np.zeros(img.shape, dtype=np.uint8)\n",
    "    height, width = img.shape[0], img.shape[1]\n",
    "    center_x, center_y = width//2, height//2\n",
    "    \n",
    "    for warp_y in range(img.shape[0]):\n",
    "        for warp_x in range(img.shape[1]):\n",
    "            x = np.tan((warp_x-center_x) / f) * f\n",
    "            y = (warp_y-center_y) * ((x**2 + f**2)**(0.5)) / f\n",
    "            x += center_x\n",
    "            y += center_y\n",
    "            if x < 0 or x >= width or y < 0 or y >= height:\n",
    "                continue\n",
    "            warp_img[warp_y, warp_x] = img[int(y), int(x)]\n",
    "    \n",
    "    return warp_img"
   ]
  },
  {
   "cell_type": "code",
   "execution_count": 9,
   "metadata": {},
   "outputs": [],
   "source": [
    "for name in os.listdir(data_dir):\n",
    "    if not os.path.exists('%s/warp'%data_dir):\n",
    "        os.makedirs('%s/warp'%data_dir)\n",
    "    if '.jpg' in name and 'pano' not in name:\n",
    "        img = cv2.imread('%s/%s'%(data_dir, name))\n",
    "        warp_img = cylindrical_warp(img, f)\n",
    "        cv2.imwrite('%s/warp/%s'%(data_dir, name), warp_img)\n",
    "# print(img.shape)\n",
    "# plt.clf()\n",
    "# plt.axis(\"off\")\n",
    "# plt.imshow(img[:,:,::-1])"
   ]
  }
 ],
 "metadata": {
  "kernelspec": {
   "display_name": "Python 3",
   "language": "python",
   "name": "python3"
  },
  "language_info": {
   "codemirror_mode": {
    "name": "ipython",
    "version": 3
   },
   "file_extension": ".py",
   "mimetype": "text/x-python",
   "name": "python",
   "nbconvert_exporter": "python",
   "pygments_lexer": "ipython3",
   "version": "3.6.2"
  }
 },
 "nbformat": 4,
 "nbformat_minor": 2
}
