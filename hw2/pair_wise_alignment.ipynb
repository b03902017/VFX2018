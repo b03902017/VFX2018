{
 "cells": [
  {
   "cell_type": "code",
   "execution_count": null,
   "metadata": {
    "collapsed": true
   },
   "outputs": [],
   "source": [
    "import os\n",
    "import cv2\n",
    "import numpy as np\n",
    "import matplotlib.pyplot as plt\n",
    "%matplotlib inline\n",
    "test_dirs = ['denny', 'grail', 'parrington']\n",
    "test_fname = ['denny', 'grail', 'prtn']\n",
    "TEST_DATA = 2\n",
    "data_dir = 'test data/%s'%test_dirs[TEST_DATA]"
   ]
  },
  {
   "cell_type": "code",
   "execution_count": null,
   "metadata": {
    "collapsed": true
   },
   "outputs": [],
   "source": [
    "feature_matching = np.load('%s/warp/feature_matching.npy'%data_dir)\n",
    "for i in range(feature_matching.shape[0]):\n",
    "    img0 = cv2.imread('%s/warp/%s%02d.jpg'%(data_dir,test_fname[TEST_DATA],i))\n",
    "    img1 = cv2.imread('%s/warp/%s%02d.jpg'%(data_dir,test_fname[TEST_DATA],i+1))\n",
    "    feature_pairs = feature_matching[i]\n",
    "    for img0_x, img0_y, img1_x, img1_y in feature_pairs:\n",
    "        cv2.circle(img0, (img0_x, img0_y), 2, (0,0,255), -1)\n",
    "        cv2.circle(img1, (img1_x, img1_y), 2, (0,0,255), -1)\n",
    "    matching = np.concatenate((img1, img0), axis=1)\n",
    "    cv2.imwrite('%s/warp/matching_%d.jpg'%(data_dir,i), matching)"
   ]
  }
 ],
 "metadata": {
  "kernelspec": {
   "display_name": "Python 3",
   "language": "python",
   "name": "python3"
  },
  "language_info": {
   "codemirror_mode": {
    "name": "ipython",
    "version": 3
   },
   "file_extension": ".py",
   "mimetype": "text/x-python",
   "name": "python",
   "nbconvert_exporter": "python",
   "pygments_lexer": "ipython3",
   "version": "3.6.2"
  }
 },
 "nbformat": 4,
 "nbformat_minor": 2
}
